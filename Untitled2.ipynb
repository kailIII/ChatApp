{
 "cells": [
  {
   "cell_type": "code",
   "execution_count": 3,
   "metadata": {
    "collapsed": false
   },
   "outputs": [
    {
     "name": "stdout",
     "output_type": "stream",
     "text": [
      "b\"sc\\x00\\x02\\x9b\\xb1\\x02\\xed\\xeb\\x86\\xda\\x0f\\x0b\\xef\\xee\\x89{\\x1c\\xa3\\xd3\\xb2l\\xf0\\x18\\r\\xf5\\x06\\xcf\\x90\\xd9\\xbe&\\xf8\\xb4\\xfd\\x9d\\x87BWzNE\\xbb\\xf6\\xde\\xa0'\\xbd\\xda\\xea~\\xdb\\xf3\\x18h\\xdb\\xd2\\xb1z\\x1fZS.\\xcc\\x9d\\x05\\xbb}\\xc5\\x94\\x8aOW\\xa2\"\n",
      "b'my_key'\n"
     ]
    }
   ],
   "source": [
    "from simplecrypt import encrypt, decrypt\n"
   ]
  },
  {
   "cell_type": "code",
   "execution_count": 4,
   "metadata": {
    "collapsed": true
   },
   "outputs": [],
   "source": [
    "ciphertext = encrypt('password', 'my_key')\n"
   ]
  },
  {
   "cell_type": "code",
   "execution_count": 5,
   "metadata": {
    "collapsed": true
   },
   "outputs": [],
   "source": [
    "plaintext = decrypt('password', ciphertext)\n"
   ]
  },
  {
   "cell_type": "code",
   "execution_count": 6,
   "metadata": {
    "collapsed": false
   },
   "outputs": [
    {
     "name": "stdout",
     "output_type": "stream",
     "text": [
      "b'sc\\x00\\x02\\xe4`\\xc8I\\x9eL=>\\x9f\\x86\\xce\\xbf\\x00\\x11[\\xe1\\xa0\\xf8\\xaf\\x92%\\xf3GQ\\xab-\\xcfe$\\xed\\xf9E.c\\x15\\x01Q\\xb9\\xce3\\xecn\\xe3\\xb6\\x95\\xb4\\xc5\\xaf\\x1bV`\\xb4\\x0f\\x0bK\\xc8(\\xef\\xa1\\xd79l\\x99e~K-\\xa8~\\xb4'\n",
      "b'my_key'\n"
     ]
    }
   ],
   "source": [
    "print(ciphertext)\n",
    "print(plaintext)"
   ]
  },
  {
   "cell_type": "code",
   "execution_count": null,
   "metadata": {
    "collapsed": true
   },
   "outputs": [],
   "source": []
  }
 ],
 "metadata": {
  "kernelspec": {
   "display_name": "Python 3",
   "language": "python",
   "name": "python3"
  },
  "language_info": {
   "codemirror_mode": {
    "name": "ipython",
    "version": 3
   },
   "file_extension": ".py",
   "mimetype": "text/x-python",
   "name": "python",
   "nbconvert_exporter": "python",
   "pygments_lexer": "ipython3",
   "version": "3.5.1"
  }
 },
 "nbformat": 4,
 "nbformat_minor": 0
}
