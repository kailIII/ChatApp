{
 "cells": [
  {
   "cell_type": "code",
   "execution_count": 5,
   "metadata": {
    "collapsed": false
   },
   "outputs": [],
   "source": [
    "from itsdangerous import URLSafeTimedSerializer\n",
    "from src.utils import app\n",
    "\n",
    "key = app.config['SECRET_KEY']\n",
    "salt = app.config['SECURITY_LOGIN_SALT']\n",
    "time = app.config['MAX_AGE']\n",
    "\n",
    "\n",
    "def get_serializer():\n",
    "    return URLSafeTimedSerializer(key, salt)\n",
    "\n",
    "\n",
    "def serialize_data(data):\n",
    "    return get_serializer().dumps(data)\n",
    "\n",
    "\n",
    "def deserialize_data(data):\n",
    "    return get_serializer().loads(data, time)\n"
   ]
  },
  {
   "cell_type": "code",
   "execution_count": 7,
   "metadata": {
    "collapsed": false
   },
   "outputs": [
    {
     "data": {
      "text/plain": [
       "'WzEsInMiXQ.Cj9SNQ.fSDqnOqW-BeqwNolbzzx3LT02cU'"
      ]
     },
     "execution_count": 7,
     "metadata": {},
     "output_type": "execute_result"
    }
   ],
   "source": [
    "serialize_data((1, 's'))"
   ]
  },
  {
   "cell_type": "code",
   "execution_count": null,
   "metadata": {
    "collapsed": true
   },
   "outputs": [],
   "source": []
  }
 ],
 "metadata": {
  "kernelspec": {
   "display_name": "Python 3",
   "language": "python",
   "name": "python3"
  },
  "language_info": {
   "codemirror_mode": {
    "name": "ipython",
    "version": 3
   },
   "file_extension": ".py",
   "mimetype": "text/x-python",
   "name": "python",
   "nbconvert_exporter": "python",
   "pygments_lexer": "ipython3",
   "version": "3.5.1"
  }
 },
 "nbformat": 4,
 "nbformat_minor": 0
}
